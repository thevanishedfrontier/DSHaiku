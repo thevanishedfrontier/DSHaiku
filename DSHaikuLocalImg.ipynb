{
 "cells": [
  {
   "metadata": {},
   "cell_type": "code",
   "source": [
    "## A. Moore\n",
    "## this notebook was created as an easy and interactive way to upload an image from the user's computer, generate image tags, and utilize deepseek R1 to generate a haiku about said image"
   ],
   "id": "1aa14b2a4f143265",
   "outputs": [],
   "execution_count": null
  },
  {
   "cell_type": "code",
   "id": "initial_id",
   "metadata": {
    "collapsed": true
   },
   "source": [
    "from PIL import Image\n",
    "import os\n",
    "import re\n",
    "from transformers import BlipProcessor, BlipForConditionalGeneration\n",
    "from azure.ai.inference import ChatCompletionsClient\n",
    "from azure.ai.inference.models import UserMessage\n",
    "from azure.core.credentials import AzureKeyCredential"
   ],
   "outputs": [],
   "execution_count": null
  },
  {
   "metadata": {},
   "cell_type": "code",
   "source": [
    "## Importing the tagging model\n",
    "processor = BlipProcessor.from_pretrained(\"Salesforce/blip-image-captioning-base\")\n",
    "model = BlipForConditionalGeneration.from_pretrained(\"Salesforce/blip-image-captioning-base\")\n",
    "\n",
    "## github models is powered by azure\n",
    "endpoint = \"https://models.inference.ai.azure.com\"\n",
    "model_name = \"DeepSeek-R1\"\n",
    "\n",
    "## add your github token to the environment\n",
    "token = os.environ[\"GITHUB_TOKEN\"]\n"
   ],
   "id": "6a1cc94427287196",
   "outputs": [],
   "execution_count": null
  },
  {
   "metadata": {},
   "cell_type": "code",
   "source": [
    "## Generate the image tags by specifying a file path\n",
    "\n",
    "image = Image.open(\"<file path to image>\").convert(\"RGB\")\n",
    "inputs = processor(image, return_tensors=\"pt\")\n",
    "out = model.generate(**inputs)\n",
    "caption = processor.decode(out[0], skip_special_tokens=True)\n",
    "print(caption)\n"
   ],
   "id": "1ad78b60778b2741",
   "outputs": [],
   "execution_count": null
  },
  {
   "metadata": {},
   "cell_type": "code",
   "source": [
    "## Pass the image caption to deespseek to generate the haiku\n",
    "\n",
    "client = ChatCompletionsClient(\n",
    "    endpoint=endpoint,\n",
    "    credential=AzureKeyCredential(token),\n",
    ")\n",
    "\n",
    "response = client.complete(\n",
    "    messages=[\n",
    "        UserMessage(content=f\"write a haiku about {caption}\"),\n",
    "    ],\n",
    "    max_tokens=1000,\n",
    "    model=model_name\n",
    ")\n",
    "\n",
    "\n",
    "\n",
    "content = response.choices[0].message.content\n",
    "print(content)\n",
    "\n",
    "#Used to remove the text between the think tags i.e. the model \"reasoning\"\n",
    "cleaned_text = re.sub(r\"<think>.*?</think>\", \"\", content, flags=re.DOTALL)\n",
    "\n",
    "#This expression removes the sentence contained after the haiku\n",
    "cleaned_text = re.sub(r\"\\*\", \"\", cleaned_text)\n",
    "\n",
    "# Extract haiku using regex\n",
    "print(cleaned_text)\n"
   ],
   "id": "a03deb1eaed9ab70",
   "outputs": [],
   "execution_count": null
  },
  {
   "metadata": {},
   "cell_type": "code",
   "source": [
    "cleaned_text = re.sub(r\"<think>.*?</think>\", \"\", content, flags=re.DOTALL)\n",
    "cleaned_text = re.sub(r\"\\*[^*]*$\", \"\", cleaned_text, flags=re.DOTALL)\n",
    "cleaned_text = re.sub(r\"\\*.*?\", \"\", cleaned_text)\n",
    "print(cleaned_text)"
   ],
   "id": "238470798082e13a",
   "outputs": [],
   "execution_count": null
  }
 ],
 "metadata": {
  "kernelspec": {
   "display_name": "Python 3",
   "language": "python",
   "name": "python3"
  },
  "language_info": {
   "codemirror_mode": {
    "name": "ipython",
    "version": 2
   },
   "file_extension": ".py",
   "mimetype": "text/x-python",
   "name": "python",
   "nbconvert_exporter": "python",
   "pygments_lexer": "ipython2",
   "version": "2.7.6"
  }
 },
 "nbformat": 4,
 "nbformat_minor": 5
}
